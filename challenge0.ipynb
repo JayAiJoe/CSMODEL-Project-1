{
  "cells": [
    {
      "cell_type": "markdown",
      "metadata": {
        "id": "view-in-github",
        "colab_type": "text"
      },
      "source": [
        "<a href=\"https://colab.research.google.com/github/JayAiJoe/CSMODEL-Project-1/blob/main/challenge0.ipynb\" target=\"_parent\"><img src=\"https://colab.research.google.com/assets/colab-badge.svg\" alt=\"Open In Colab\"/></a>"
      ]
    },
    {
      "cell_type": "markdown",
      "id": "90fb0979",
      "metadata": {
        "id": "90fb0979"
      },
      "source": [
        "Before you turn this problem in, make sure everything runs as expected. First, **restart the kernel** (in the menubar, select Kernel$\\rightarrow$Restart) and then **run all cells** (in the menubar, select Cell$\\rightarrow$Run All).\n",
        "\n",
        "Make sure you fill in any place that says `YOUR CODE HERE` or \"YOUR ANSWER HERE\", as well as your name and collaborators below:"
      ]
    },
    {
      "cell_type": "code",
      "execution_count": 1,
      "id": "3b7cc4ab",
      "metadata": {
        "id": "3b7cc4ab"
      },
      "outputs": [],
      "source": [
        "NAME = \"Jay-ai Locsin\"\n",
        "COLLABORATORS = \"\""
      ]
    },
    {
      "cell_type": "markdown",
      "id": "1af03fe4",
      "metadata": {
        "id": "1af03fe4"
      },
      "source": [
        "---"
      ]
    },
    {
      "cell_type": "markdown",
      "id": "b57d668d-1fb7-41ff-b756-353c84f10cfd",
      "metadata": {
        "id": "b57d668d-1fb7-41ff-b756-353c84f10cfd"
      },
      "source": [
        "# Challenge 00: Suggested Reading\n"
      ]
    },
    {
      "cell_type": "markdown",
      "id": "c9d4e6fb-d61f-4b05-988c-3bc4ae3e2c30",
      "metadata": {
        "id": "c9d4e6fb-d61f-4b05-988c-3bc4ae3e2c30"
      },
      "source": [
        "This is a self-reported challenge. You have to do all the Parts if you want to complete it. Appendices are optional.\n"
      ]
    },
    {
      "cell_type": "markdown",
      "id": "d3a45140-f95a-4bcd-8b3a-03cbea5ec4e0",
      "metadata": {
        "id": "d3a45140-f95a-4bcd-8b3a-03cbea5ec4e0"
      },
      "source": [
        "## Part 1: Linear algebra\n",
        "Assign the variable below the value `True` if you completed 3Blue1Brown's [linear algebra sequence](https://www.3blue1brown.com/topics/linear-algebra) or if you already have the prerequisite background:\n"
      ]
    },
    {
      "cell_type": "code",
      "execution_count": 4,
      "id": "3f6ec188-f82e-455c-a874-969d145cabe2",
      "metadata": {
        "deletable": false,
        "nbgrader": {
          "cell_type": "code",
          "checksum": "b9da775a037f451a0acb266fcaa56c97",
          "grade": false,
          "grade_id": "lin-alg-ans",
          "locked": false,
          "schema_version": 3,
          "solution": true,
          "task": false
        },
        "id": "3f6ec188-f82e-455c-a874-969d145cabe2"
      },
      "outputs": [],
      "source": [
        "linear_algebra_completed = True # YOUR CODE HERE\n",
        "# raise NotImplementedError()"
      ]
    },
    {
      "cell_type": "code",
      "execution_count": 5,
      "id": "80f9afa8-4266-4958-b133-d4093c8288e5",
      "metadata": {
        "deletable": false,
        "editable": false,
        "nbgrader": {
          "cell_type": "code",
          "checksum": "c193ecc7ed93e52111349599d6705d71",
          "grade": true,
          "grade_id": "lin-alg-done",
          "locked": true,
          "points": 1,
          "schema_version": 3,
          "solution": false,
          "task": false
        },
        "id": "80f9afa8-4266-4958-b133-d4093c8288e5"
      },
      "outputs": [],
      "source": [
        "assert linear_algebra_completed"
      ]
    },
    {
      "cell_type": "markdown",
      "id": "ec0cc14e-eb50-4f40-8ff3-93c795770bef",
      "metadata": {
        "id": "ec0cc14e-eb50-4f40-8ff3-93c795770bef"
      },
      "source": [
        "## Part 2: Calculus\n",
        "\n",
        "Assign the variable below the value `True` if you completed 3Blue1Brown's [calculus sequence](https://www.3blue1brown.com/topics/calculus) or if you already have the prerequisite background:"
      ]
    },
    {
      "cell_type": "code",
      "execution_count": 6,
      "id": "3c6c506d-3697-44c8-9e77-e45904cdac11",
      "metadata": {
        "deletable": false,
        "nbgrader": {
          "cell_type": "code",
          "checksum": "2a87f6aa27c4d9697b9885d69056db70",
          "grade": false,
          "grade_id": "calc-ans",
          "locked": false,
          "schema_version": 3,
          "solution": true,
          "task": false
        },
        "id": "3c6c506d-3697-44c8-9e77-e45904cdac11"
      },
      "outputs": [],
      "source": [
        "calculus_completed = True # YOUR CODE HERE\n",
        "# raise NotImplementedError()"
      ]
    },
    {
      "cell_type": "code",
      "execution_count": 7,
      "id": "808061a8-3621-4807-920a-4e69e2a99ee8",
      "metadata": {
        "deletable": false,
        "editable": false,
        "nbgrader": {
          "cell_type": "code",
          "checksum": "0936998e2f7830f1f751df4125d9f2f6",
          "grade": true,
          "grade_id": "calc-done",
          "locked": true,
          "points": 1,
          "schema_version": 3,
          "solution": false,
          "task": false
        },
        "id": "808061a8-3621-4807-920a-4e69e2a99ee8"
      },
      "outputs": [],
      "source": [
        "assert calculus_completed"
      ]
    },
    {
      "cell_type": "markdown",
      "id": "49e16eba-ff6b-4992-8a28-e5a7263eeefe",
      "metadata": {
        "id": "49e16eba-ff6b-4992-8a28-e5a7263eeefe"
      },
      "source": [
        "## Part 3: Python\n",
        "\n",
        "Assign the variable below the value `True` if you completed the **first nine modules** of the [official Python tutorial](https://docs.python.org/3/tutorial/) or if you already have the prerequisite background:"
      ]
    },
    {
      "cell_type": "code",
      "execution_count": 8,
      "id": "a8ea2ff0-b50c-4976-821f-936fcea04888",
      "metadata": {
        "deletable": false,
        "nbgrader": {
          "cell_type": "code",
          "checksum": "552f4c40707d46754904f6aa2b3cdb23",
          "grade": false,
          "grade_id": "python-ans",
          "locked": false,
          "schema_version": 3,
          "solution": true,
          "task": false
        },
        "id": "a8ea2ff0-b50c-4976-821f-936fcea04888"
      },
      "outputs": [],
      "source": [
        "python_completed = True # YOUR CODE HERE\n",
        "# raise NotImplementedError()"
      ]
    },
    {
      "cell_type": "code",
      "execution_count": 9,
      "id": "272dd696-d55f-4e6b-b1c4-7423420646fc",
      "metadata": {
        "deletable": false,
        "editable": false,
        "nbgrader": {
          "cell_type": "code",
          "checksum": "145353af28958a393a998e41f119f3d0",
          "grade": true,
          "grade_id": "python-done",
          "locked": true,
          "points": 1,
          "schema_version": 3,
          "solution": false,
          "task": false
        },
        "id": "272dd696-d55f-4e6b-b1c4-7423420646fc"
      },
      "outputs": [],
      "source": [
        "assert python_completed"
      ]
    },
    {
      "cell_type": "markdown",
      "id": "bd288293-d375-43b4-aa89-33d457d41737",
      "metadata": {
        "id": "bd288293-d375-43b4-aa89-33d457d41737"
      },
      "source": [
        "## Appendix: An excerpt from _Proofs and Refutations_, by Imre Lakatos\n",
        "\n",
        "Assign the variable below the value `True` if you read the [excerpt](https://math.berkeley.edu/~kpmann/Lakatos.pdf) linked in the participant guide:"
      ]
    },
    {
      "cell_type": "code",
      "execution_count": 10,
      "id": "d43031d9-ea07-4661-b31a-c9c1c71a1b02",
      "metadata": {
        "deletable": false,
        "nbgrader": {
          "cell_type": "code",
          "checksum": "84aec958794f58753ff33bc3cdd46a73",
          "grade": false,
          "grade_id": "appendix-ans",
          "locked": false,
          "schema_version": 3,
          "solution": true,
          "task": false
        },
        "id": "d43031d9-ea07-4661-b31a-c9c1c71a1b02"
      },
      "outputs": [],
      "source": [
        "appendix_completed = False # YOUR CODE HERE\n",
        "# raise NotImplementedError()"
      ]
    },
    {
      "cell_type": "code",
      "execution_count": 11,
      "id": "b3cba5f5-866a-4528-a410-8b4af38ed1c3",
      "metadata": {
        "deletable": false,
        "editable": false,
        "nbgrader": {
          "cell_type": "code",
          "checksum": "744865d7ccb7526eba428bfbde0d9e32",
          "grade": true,
          "grade_id": "appendix-test",
          "locked": true,
          "points": 1,
          "schema_version": 3,
          "solution": false,
          "task": false
        },
        "id": "b3cba5f5-866a-4528-a410-8b4af38ed1c3",
        "outputId": "c68ae5ca-83c0-4762-8af9-48a09439beb3",
        "colab": {
          "base_uri": "https://localhost:8080/",
          "height": 141
        }
      },
      "outputs": [
        {
          "output_type": "error",
          "ename": "AssertionError",
          "evalue": "",
          "traceback": [
            "\u001b[0;31m---------------------------------------------------------------------------\u001b[0m",
            "\u001b[0;31mAssertionError\u001b[0m                            Traceback (most recent call last)",
            "\u001b[0;32m<ipython-input-11-4a5a5fc4545c>\u001b[0m in \u001b[0;36m<cell line: 1>\u001b[0;34m()\u001b[0m\n\u001b[0;32m----> 1\u001b[0;31m \u001b[0;32massert\u001b[0m \u001b[0mappendix_completed\u001b[0m\u001b[0;34m\u001b[0m\u001b[0;34m\u001b[0m\u001b[0m\n\u001b[0m",
            "\u001b[0;31mAssertionError\u001b[0m: "
          ]
        }
      ],
      "source": [
        "assert appendix_completed"
      ]
    },
    {
      "cell_type": "code",
      "source": [],
      "metadata": {
        "id": "p8iXTK-sWmdl"
      },
      "id": "p8iXTK-sWmdl",
      "execution_count": null,
      "outputs": []
    }
  ],
  "metadata": {
    "kernelspec": {
      "display_name": "Python 3 (ipykernel)",
      "language": "python",
      "name": "python3"
    },
    "language_info": {
      "codemirror_mode": {
        "name": "ipython",
        "version": 3
      },
      "file_extension": ".py",
      "mimetype": "text/x-python",
      "name": "python",
      "nbconvert_exporter": "python",
      "pygments_lexer": "ipython3",
      "version": "3.10.12"
    },
    "colab": {
      "provenance": [],
      "include_colab_link": true
    }
  },
  "nbformat": 4,
  "nbformat_minor": 5
}